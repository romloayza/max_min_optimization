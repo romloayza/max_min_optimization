{
 "cells": [
  {
   "cell_type": "markdown",
   "id": "3e7ee4a2-e452-4e77-b224-414196218ba8",
   "metadata": {},
   "source": [
    "# Diet Problem\n",
    "### Minimization exercise"
   ]
  },
  {
   "cell_type": "code",
   "execution_count": 1,
   "id": "9eccc59d-b7e5-405f-8eee-eafa6e1641d7",
   "metadata": {},
   "outputs": [
    {
     "data": {
      "text/html": [
       "<iframe src=\"https://docs.google.com/presentation/d/e/2PACX-1vTSq9X74urGAB_5n_MIJ9ZGIboKSvBdokVTBXVLh_qqZnmLRTJioOF431Rzys3Qi9UaFwWXjeq6Wmd5/embed?start=false&loop=false&delayms=3000\" frameborder=\"0\" width=\"960\" height=\"569\" allowfullscreen=\"true\" mozallowfullscreen=\"true\" webkitallowfullscreen=\"true\"></iframe>\n"
      ],
      "text/plain": [
       "<IPython.core.display.HTML object>"
      ]
     },
     "metadata": {},
     "output_type": "display_data"
    }
   ],
   "source": [
    "%%html\n",
    "<iframe src=\"https://docs.google.com/presentation/d/e/2PACX-1vTSq9X74urGAB_5n_MIJ9ZGIboKSvBdokVTBXVLh_qqZnmLRTJioOF431Rzys3Qi9UaFwWXjeq6Wmd5/embed?start=false&loop=false&delayms=3000\" frameborder=\"0\" width=\"960\" height=\"569\" allowfullscreen=\"true\" mozallowfullscreen=\"true\" webkitallowfullscreen=\"true\"></iframe>"
   ]
  },
  {
   "cell_type": "code",
   "execution_count": 2,
   "id": "d219631b-9301-431e-bf4a-980b46098307",
   "metadata": {},
   "outputs": [],
   "source": [
    "!pip install -q pulp\n",
    "import pulp as pp"
   ]
  },
  {
   "cell_type": "markdown",
   "id": "6addec7b-00db-47c5-9b7c-9a0bc4b73a30",
   "metadata": {},
   "source": [
    "*Modelo de minimización de costos*"
   ]
  },
  {
   "cell_type": "code",
   "execution_count": 3,
   "id": "85675d14-bb9e-48c4-8e92-752b881dbddb",
   "metadata": {},
   "outputs": [],
   "source": [
    "model = pp.LpProblem(name=\"diet-problem\", sense=pp.LpMinimize)"
   ]
  },
  {
   "cell_type": "code",
   "execution_count": 4,
   "id": "92f25cdd-acc5-4dc2-a7b0-f01d0f8a47d8",
   "metadata": {},
   "outputs": [],
   "source": [
    "VegaVita = pp.LpVariable(name=\"VegaVita\", lowBound=0, cat=\"Integer\")\n",
    "HappyHealth = pp.LpVariable(name=\"HappyHealth\", lowBound=0, cat=\"Integer\")"
   ]
  },
  {
   "cell_type": "markdown",
   "id": "0e392074-648c-4714-ac75-e3163c2d1cc3",
   "metadata": {},
   "source": [
    "*Coeficientes de costo de cada suplemento*"
   ]
  },
  {
   "cell_type": "code",
   "execution_count": 5,
   "id": "3f26d1f3-12dc-47d2-ba06-33f2457399b6",
   "metadata": {},
   "outputs": [],
   "source": [
    "Cost_VegaVita = 0.20  # 20 centavos\n",
    "Cost_HappyHealth = 0.30  # 30 centavos"
   ]
  },
  {
   "cell_type": "markdown",
   "id": "2c321c92-703c-482e-8500-d0d3ecc25ff7",
   "metadata": {},
   "source": [
    "*Creamos la función para minimizar el costo total*"
   ]
  },
  {
   "cell_type": "code",
   "execution_count": 6,
   "id": "2c3b3ded-6cf4-4190-b92b-78ba35c62b93",
   "metadata": {},
   "outputs": [],
   "source": [
    "obj_func = Cost_VegaVita * VegaVita + Cost_HappyHealth * HappyHealth\n",
    "model += obj_func"
   ]
  },
  {
   "cell_type": "markdown",
   "id": "0412a8b4-d1fa-4ea4-a706-f72f377507c4",
   "metadata": {},
   "source": [
    "##### _*Requerimientos*_"
   ]
  },
  {
   "cell_type": "code",
   "execution_count": 7,
   "id": "afa52ef2-4275-4767-b3d0-c482ad6347a5",
   "metadata": {},
   "outputs": [],
   "source": [
    "C1 = pp.LpConstraint(e=20 * VegaVita + 30 * HappyHealth, sense=pp.LpConstraintGE, rhs=60, name=\"VitaminCConstraint\")\n",
    "C2 = pp.LpConstraint(e=500 * VegaVita + 250 * HappyHealth, sense=pp.LpConstraintGE, rhs=1000, name=\"CalciumConstraint\")\n",
    "C3 = pp.LpConstraint(e=9 * VegaVita + 2 * HappyHealth, sense=pp.LpConstraintGE, rhs=18, name=\"IronConstraint\")\n",
    "C4 = pp.LpConstraint(e=2 * VegaVita + 10 * HappyHealth, sense=pp.LpConstraintGE, rhs=20, name=\"NiacinConstraint\")\n",
    "C5 = pp.LpConstraint(e=60 * VegaVita + 90 * HappyHealth, sense=pp.LpConstraintGE, rhs=360, name=\"MagnesiumConstraint\")"
   ]
  },
  {
   "cell_type": "markdown",
   "id": "a4cb1a61-f17d-42af-972c-37add6a97cb0",
   "metadata": {},
   "source": [
    "*Añadimos las restricciones al modelo*"
   ]
  },
  {
   "cell_type": "code",
   "execution_count": 8,
   "id": "b6979425-3683-4fe3-ba65-75d106174cfe",
   "metadata": {},
   "outputs": [],
   "source": [
    "model += C1\n",
    "model += C2\n",
    "model += C3\n",
    "model += C4\n",
    "model += C5"
   ]
  },
  {
   "cell_type": "code",
   "execution_count": 9,
   "id": "93898b04-4929-4bb2-85a7-89b6a306bbfd",
   "metadata": {},
   "outputs": [
    {
     "data": {
      "text/plain": [
       "1"
      ]
     },
     "execution_count": 9,
     "metadata": {},
     "output_type": "execute_result"
    }
   ],
   "source": [
    "model.solve()"
   ]
  },
  {
   "cell_type": "code",
   "execution_count": 10,
   "id": "9858f1ec-2b89-46b8-a0fe-74f560a66040",
   "metadata": {},
   "outputs": [
    {
     "data": {
      "text/plain": [
       "{'Model Status': 'Optimal',\n",
       " 'Optimal Cost': 1.2000000000000002,\n",
       " 'HappyHealth': 2.0,\n",
       " 'VegaVita': 3.0}"
      ]
     },
     "execution_count": 10,
     "metadata": {},
     "output_type": "execute_result"
    }
   ],
   "source": [
    "Results = {\n",
    "    \"Model Status\": pp.LpStatus[model.status],\n",
    "    \"Optimal Cost\": pp.value(model.objective)\n",
    "}\n",
    "Results.update({v.name: v.varValue for v in model.variables()})\n",
    "Results"
   ]
  },
  {
   "cell_type": "code",
   "execution_count": 11,
   "id": "2dfd1a01-6c51-4ebe-b96b-f42c8a18b2d5",
   "metadata": {},
   "outputs": [
    {
     "data": {
      "text/html": [
       "<style type=\"text/css\">\n",
       "</style>\n",
       "<table id=\"T_79136\">\n",
       "  <thead>\n",
       "    <tr>\n",
       "      <th class=\"blank level0\" >&nbsp;</th>\n",
       "      <th id=\"T_79136_level0_col0\" class=\"col_heading level0 col0\" >Optimal Cost</th>\n",
       "      <th id=\"T_79136_level0_col1\" class=\"col_heading level0 col1\" >HappyHealth</th>\n",
       "      <th id=\"T_79136_level0_col2\" class=\"col_heading level0 col2\" >VegaVita</th>\n",
       "    </tr>\n",
       "    <tr>\n",
       "      <th class=\"index_name level0\" >Model Status</th>\n",
       "      <th class=\"blank col0\" >&nbsp;</th>\n",
       "      <th class=\"blank col1\" >&nbsp;</th>\n",
       "      <th class=\"blank col2\" >&nbsp;</th>\n",
       "    </tr>\n",
       "  </thead>\n",
       "  <tbody>\n",
       "    <tr>\n",
       "      <th id=\"T_79136_level0_row0\" class=\"row_heading level0 row0\" >Optimal</th>\n",
       "      <td id=\"T_79136_row0_col0\" class=\"data row0 col0\" >1.2000000000000002</td>\n",
       "      <td id=\"T_79136_row0_col1\" class=\"data row0 col1\" >2.0</td>\n",
       "      <td id=\"T_79136_row0_col2\" class=\"data row0 col2\" >3.0</td>\n",
       "    </tr>\n",
       "  </tbody>\n",
       "</table>\n"
      ],
      "text/plain": [
       "<pandas.io.formats.style.Styler at 0x17b69d1b4a0>"
      ]
     },
     "execution_count": 11,
     "metadata": {},
     "output_type": "execute_result"
    }
   ],
   "source": [
    "import pandas as pd\n",
    "pd.DataFrame.from_dict(Results,orient='index').T.set_index('Model Status').style.format('{:,}')"
   ]
  },
  {
   "cell_type": "markdown",
   "id": "b00ec606-8cb6-41ba-8100-b28060dbf721",
   "metadata": {},
   "source": [
    "# Scheduling Problem"
   ]
  },
  {
   "cell_type": "code",
   "execution_count": 12,
   "id": "fa6ade6b-6859-42e1-a2a1-cd122d6412f7",
   "metadata": {},
   "outputs": [
    {
     "data": {
      "text/html": [
       "<iframe src=\"https://docs.google.com/presentation/d/e/2PACX-1vQtBRpIr6Hx1_T0zJ3_DRqsE82YUjx7ZkeEKLdA64fbjtjkmc6Ibf6ebzp6CY69D482IGpG2h9GcsC5/embed?start=false&loop=false&delayms=3000\" frameborder=\"0\" width=\"960\" height=\"569\" allowfullscreen=\"true\" mozallowfullscreen=\"true\" webkitallowfullscreen=\"true\"></iframe>\n"
      ],
      "text/plain": [
       "<IPython.core.display.HTML object>"
      ]
     },
     "metadata": {},
     "output_type": "display_data"
    }
   ],
   "source": [
    "%%html\n",
    "<iframe src=\"https://docs.google.com/presentation/d/e/2PACX-1vQtBRpIr6Hx1_T0zJ3_DRqsE82YUjx7ZkeEKLdA64fbjtjkmc6Ibf6ebzp6CY69D482IGpG2h9GcsC5/embed?start=false&loop=false&delayms=3000\" frameborder=\"0\" width=\"960\" height=\"569\" allowfullscreen=\"true\" mozallowfullscreen=\"true\" webkitallowfullscreen=\"true\"></iframe>"
   ]
  },
  {
   "cell_type": "code",
   "execution_count": 13,
   "id": "3259b656-eec7-4eb4-8f8c-fa0805d612af",
   "metadata": {},
   "outputs": [],
   "source": [
    "model2 = pp.LpProblem(name=\"scheduling_problem\", sense=pp.LpMinimize)"
   ]
  },
  {
   "cell_type": "code",
   "execution_count": 14,
   "id": "687a659a-65d0-4ac1-9197-8d7fe9ef8bc1",
   "metadata": {},
   "outputs": [],
   "source": [
    "shift_0 = pp.LpVariable(name=\"shift_0\", lowBound=0, cat='Integer')\n",
    "shift_4 = pp.LpVariable(name=\"shift_4\", lowBound=0, cat='Integer')\n",
    "shift_8 = pp.LpVariable(name=\"shift_8\", lowBound=0, cat='Integer')\n",
    "shift_12 = pp.LpVariable(name=\"shift_12\", lowBound=0, cat='Integer')\n",
    "shift_16 = pp.LpVariable(name=\"shift_16\", lowBound=0, cat='Integer')\n",
    "shift_20 = pp.LpVariable(name=\"shift_20\", lowBound=0, cat='Integer')"
   ]
  },
  {
   "cell_type": "code",
   "execution_count": 15,
   "id": "6e66b038-ba9e-47e9-b72a-6608865b0071",
   "metadata": {},
   "outputs": [],
   "source": [
    "model2 += (shift_0 + shift_4 + shift_8 + shift_12 + shift_16 + shift_20, \"TotalDrivers\")"
   ]
  },
  {
   "cell_type": "markdown",
   "id": "c1d1e449-5bcc-4f93-aca0-45f96db8c399",
   "metadata": {},
   "source": [
    "##### _*Requerimientos*_"
   ]
  },
  {
   "cell_type": "code",
   "execution_count": 16,
   "id": "3e72d7e0-10e2-4eba-a80a-0bdb8d1f41f6",
   "metadata": {},
   "outputs": [],
   "source": [
    "C1 = pp.LpConstraint(e=shift_0 + shift_20, sense=pp.LpConstraintGE, rhs=4, name=\"Demanda_0-4\")\n",
    "C2 = pp.LpConstraint(e=shift_0 + shift_4, sense=pp.LpConstraintGE, rhs=8, name=\"Demanda_4-8\")\n",
    "C3 = pp.LpConstraint(e=shift_4 + shift_8, sense=pp.LpConstraintGE, rhs=10, name=\"Demanda_8-12\")\n",
    "C4 = pp.LpConstraint(e=shift_8 + shift_12, sense=pp.LpConstraintGE, rhs=7, name=\"Demanda_12-16\")\n",
    "C5 = pp.LpConstraint(e=shift_12 + shift_16, sense=pp.LpConstraintGE, rhs=12, name=\"Demanda_16-20\")\n",
    "C6 = pp.LpConstraint(e=shift_16 + shift_20, sense=pp.LpConstraintGE, rhs=4, name=\"Demanda_20-24\")"
   ]
  },
  {
   "cell_type": "code",
   "execution_count": 17,
   "id": "6dddb2de-454c-4ab4-ad39-dab0054bb67c",
   "metadata": {},
   "outputs": [],
   "source": [
    "model2 += C1\n",
    "model2 += C2\n",
    "model2 += C3\n",
    "model2 += C4\n",
    "model2 += C5\n",
    "model2 += C6"
   ]
  },
  {
   "cell_type": "code",
   "execution_count": 18,
   "id": "0a724ed8-f9b0-49b8-b289-e4dfc0f48dae",
   "metadata": {},
   "outputs": [
    {
     "data": {
      "text/plain": [
       "1"
      ]
     },
     "execution_count": 18,
     "metadata": {},
     "output_type": "execute_result"
    }
   ],
   "source": [
    "model2.solve()"
   ]
  },
  {
   "cell_type": "code",
   "execution_count": 19,
   "id": "a8cae502-014c-403d-a787-42251f2324de",
   "metadata": {},
   "outputs": [
    {
     "data": {
      "text/plain": [
       "{'Model Status': 'Optimal',\n",
       " 'Total drivers': 26.0,\n",
       " 'shift_0': 0.0,\n",
       " 'shift_12': 12.0,\n",
       " 'shift_16': 0.0,\n",
       " 'shift_20': 4.0,\n",
       " 'shift_4': 10.0,\n",
       " 'shift_8': 0.0}"
      ]
     },
     "execution_count": 19,
     "metadata": {},
     "output_type": "execute_result"
    }
   ],
   "source": [
    "Results = {\n",
    "    \"Model Status\": pp.LpStatus[model2.status],\n",
    "    \"Total drivers\": pp.value(model2.objective)\n",
    "}\n",
    "Results.update({v.name: v.varValue for v in model2.variables()})\n",
    "Results"
   ]
  },
  {
   "cell_type": "code",
   "execution_count": 20,
   "id": "f64d8700-2f7b-4be5-a727-cfb08a617927",
   "metadata": {},
   "outputs": [
    {
     "data": {
      "text/html": [
       "<style type=\"text/css\">\n",
       "</style>\n",
       "<table id=\"T_73143\">\n",
       "  <thead>\n",
       "    <tr>\n",
       "      <th class=\"blank level0\" >&nbsp;</th>\n",
       "      <th id=\"T_73143_level0_col0\" class=\"col_heading level0 col0\" >Total drivers</th>\n",
       "      <th id=\"T_73143_level0_col1\" class=\"col_heading level0 col1\" >shift_0</th>\n",
       "      <th id=\"T_73143_level0_col2\" class=\"col_heading level0 col2\" >shift_12</th>\n",
       "      <th id=\"T_73143_level0_col3\" class=\"col_heading level0 col3\" >shift_16</th>\n",
       "      <th id=\"T_73143_level0_col4\" class=\"col_heading level0 col4\" >shift_20</th>\n",
       "      <th id=\"T_73143_level0_col5\" class=\"col_heading level0 col5\" >shift_4</th>\n",
       "      <th id=\"T_73143_level0_col6\" class=\"col_heading level0 col6\" >shift_8</th>\n",
       "    </tr>\n",
       "    <tr>\n",
       "      <th class=\"index_name level0\" >Model Status</th>\n",
       "      <th class=\"blank col0\" >&nbsp;</th>\n",
       "      <th class=\"blank col1\" >&nbsp;</th>\n",
       "      <th class=\"blank col2\" >&nbsp;</th>\n",
       "      <th class=\"blank col3\" >&nbsp;</th>\n",
       "      <th class=\"blank col4\" >&nbsp;</th>\n",
       "      <th class=\"blank col5\" >&nbsp;</th>\n",
       "      <th class=\"blank col6\" >&nbsp;</th>\n",
       "    </tr>\n",
       "  </thead>\n",
       "  <tbody>\n",
       "    <tr>\n",
       "      <th id=\"T_73143_level0_row0\" class=\"row_heading level0 row0\" >Optimal</th>\n",
       "      <td id=\"T_73143_row0_col0\" class=\"data row0 col0\" >26.0</td>\n",
       "      <td id=\"T_73143_row0_col1\" class=\"data row0 col1\" >0.0</td>\n",
       "      <td id=\"T_73143_row0_col2\" class=\"data row0 col2\" >12.0</td>\n",
       "      <td id=\"T_73143_row0_col3\" class=\"data row0 col3\" >0.0</td>\n",
       "      <td id=\"T_73143_row0_col4\" class=\"data row0 col4\" >4.0</td>\n",
       "      <td id=\"T_73143_row0_col5\" class=\"data row0 col5\" >10.0</td>\n",
       "      <td id=\"T_73143_row0_col6\" class=\"data row0 col6\" >0.0</td>\n",
       "    </tr>\n",
       "  </tbody>\n",
       "</table>\n"
      ],
      "text/plain": [
       "<pandas.io.formats.style.Styler at 0x17b6caece60>"
      ]
     },
     "execution_count": 20,
     "metadata": {},
     "output_type": "execute_result"
    }
   ],
   "source": [
    "pd.DataFrame.from_dict(Results,orient='index').T.set_index('Model Status').style.format('{:,}')"
   ]
  },
  {
   "cell_type": "code",
   "execution_count": 22,
   "id": "f17b94de-8dd5-4db9-9ce6-0e7fa47cba32",
   "metadata": {},
   "outputs": [
    {
     "data": {
      "text/html": [
       "<style type=\"text/css\">\n",
       "</style>\n",
       "<table id=\"T_4b740\">\n",
       "  <thead>\n",
       "    <tr>\n",
       "      <th class=\"blank level0\" >&nbsp;</th>\n",
       "      <th id=\"T_4b740_level0_col0\" class=\"col_heading level0 col0\" >Total drivers</th>\n",
       "      <th id=\"T_4b740_level0_col1\" class=\"col_heading level0 col1\" >shift_0</th>\n",
       "      <th id=\"T_4b740_level0_col2\" class=\"col_heading level0 col2\" >shift_4</th>\n",
       "      <th id=\"T_4b740_level0_col3\" class=\"col_heading level0 col3\" >shift_8</th>\n",
       "      <th id=\"T_4b740_level0_col4\" class=\"col_heading level0 col4\" >shift_12</th>\n",
       "      <th id=\"T_4b740_level0_col5\" class=\"col_heading level0 col5\" >shift_16</th>\n",
       "      <th id=\"T_4b740_level0_col6\" class=\"col_heading level0 col6\" >shift_20</th>\n",
       "    </tr>\n",
       "    <tr>\n",
       "      <th class=\"index_name level0\" >Model Status</th>\n",
       "      <th class=\"blank col0\" >&nbsp;</th>\n",
       "      <th class=\"blank col1\" >&nbsp;</th>\n",
       "      <th class=\"blank col2\" >&nbsp;</th>\n",
       "      <th class=\"blank col3\" >&nbsp;</th>\n",
       "      <th class=\"blank col4\" >&nbsp;</th>\n",
       "      <th class=\"blank col5\" >&nbsp;</th>\n",
       "      <th class=\"blank col6\" >&nbsp;</th>\n",
       "    </tr>\n",
       "  </thead>\n",
       "  <tbody>\n",
       "    <tr>\n",
       "      <th id=\"T_4b740_level0_row0\" class=\"row_heading level0 row0\" >Optimal</th>\n",
       "      <td id=\"T_4b740_row0_col0\" class=\"data row0 col0\" >26.0</td>\n",
       "      <td id=\"T_4b740_row0_col1\" class=\"data row0 col1\" >0.0</td>\n",
       "      <td id=\"T_4b740_row0_col2\" class=\"data row0 col2\" >10.0</td>\n",
       "      <td id=\"T_4b740_row0_col3\" class=\"data row0 col3\" >0.0</td>\n",
       "      <td id=\"T_4b740_row0_col4\" class=\"data row0 col4\" >12.0</td>\n",
       "      <td id=\"T_4b740_row0_col5\" class=\"data row0 col5\" >0.0</td>\n",
       "      <td id=\"T_4b740_row0_col6\" class=\"data row0 col6\" >4.0</td>\n",
       "    </tr>\n",
       "  </tbody>\n",
       "</table>\n"
      ],
      "text/plain": [
       "<pandas.io.formats.style.Styler at 0x17b69ab5400>"
      ]
     },
     "execution_count": 22,
     "metadata": {},
     "output_type": "execute_result"
    }
   ],
   "source": [
    "df = pd.DataFrame.from_dict(Results, orient='index').T\n",
    "\n",
    "# Reordenar las columnas \n",
    "df = df[['Model Status', 'Total drivers', 'shift_0', 'shift_4', 'shift_8', 'shift_12', 'shift_16', 'shift_20']]\n",
    "df.set_index('Model Status').style.format('{:,}')"
   ]
  }
 ],
 "metadata": {
  "kernelspec": {
   "display_name": "Python 3 (ipykernel)",
   "language": "python",
   "name": "python3"
  },
  "language_info": {
   "codemirror_mode": {
    "name": "ipython",
    "version": 3
   },
   "file_extension": ".py",
   "mimetype": "text/x-python",
   "name": "python",
   "nbconvert_exporter": "python",
   "pygments_lexer": "ipython3",
   "version": "3.12.4"
  }
 },
 "nbformat": 4,
 "nbformat_minor": 5
}
